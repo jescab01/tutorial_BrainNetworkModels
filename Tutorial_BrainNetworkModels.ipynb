{
 "cells": [
  {
   "cell_type": "markdown",
   "id": "2f85732a",
   "metadata": {},
   "source": [
    "# Brain Network Models\n",
    "\n",
    "Building a brain network model (BNM) is an efficient way of simulating an in-silico version of a real brain. Two key elements compose these models: a structural connectivity matrix that serves as the skeleton of the virtual brain; and the neural mass models (NMMs) that are placed in each vertex of the skeleton to reproduce electrophysiological activity. \n",
    "\n",
    "These BNMs allow us to perform experiments that might not be plausible with real brains either due to technical or ethical reasons. They are key to integrating evidence from multiple levels of analysis, checking for their mutual coherence, and testing the directions of causal relationships between them. They provide enough flexibility to face different problems at hand, using specific NMMs. \n",
    "\n",
    "Surely, these models are not real brains. They are abstract representations that reproduce specific aspects of real brains, and that become useful to tackle specific research questions.\n",
    "\n",
    "Through this tutorial, you will be provided information on how these models are built (within [The Virtual Brain](https://www.thevirtualbrain.org/) (TVB) simulation platform; [Sanz-Leon et al., 2013](https://doi.org/10.3389/fninf.2013.00010)) and how you can adapt them to your own research questions. We will flow from the general output of these models into the specific parts that compose them. We will show different perspectives to understand the functioning of these models. \n",
    "\n",
    "\n",
    "**useful info.** To run code cells, you can use the \"Run\" button above, or use \"ctrl+enter\". \n",
    "\n",
    "\n",
    "\n",
    "\n",
    "\n",
    "## 1. Performing a simulation\n",
    "\n",
    "To perform a simulation, you need to import necessary packages, define simulation parameters, and run it. Let's start from the result. The output of a BNM simulation implemented in TVB is a set of timeseries. These timeseries represent the source-space signals of our in-silico brain models, with a signal per region included in the parcellation atlas used for the structural matrix. As in empirical neuroimaging studies, signals are just the raw material that will be analyzed to answer the research questions at hand. \n",
    "\n",
    "Here, we expect to provide the tools to build such types of models. You are in charge of thinking about how these models could be applied to your specific research questions. \n"
   ]
  },
  {
   "cell_type": "code",
   "execution_count": null,
   "id": "42496fcd",
   "metadata": {},
   "outputs": [],
   "source": [
    "import os\n",
    "import time\n",
    "import numpy as np\n",
    "from tvb.simulator.lab import *\n",
    "\n",
    "from functions.jansen_rit_david_mine import JansenRit1995\n",
    "from functions.signals import timeseriesPlot, epochingTool\n",
    "from functions.fft import FFTpeaks\n",
    "from functions.mixes import timeseries_spectra, timeseries_phaseplane\n",
    "\n",
    "from plotly.subplots import make_subplots\n",
    "import plotly.graph_objects as go\n",
    "import plotly.offline\n",
    "\n",
    "import warnings  # Only for the workshop; you could hide important messages.\n",
    "warnings.filterwarnings(\"ignore\")  "
   ]
  },
  {
   "cell_type": "code",
   "execution_count": null,
   "id": "e1d75a00",
   "metadata": {},
   "outputs": [],
   "source": [
    "wd = os.getcwd()  # Define working directory\n",
    "tic0 = time.time()  # Measure simulation time\n",
    "\n",
    "\n",
    "\n",
    "timescale, simLength, transient_t = \"ms\", 8000, 2000  # simulated timesteps in the NMM timescale - ms; transient time to exclude from analysis\n",
    "samplingFreq = 1  # Hz - datapoints/timestep \n",
    "transient_dp = transient_t * samplingFreq  # convert transient time into number of datapoints\n",
    "\n",
    "\n",
    "## A1. Structural connectivity\n",
    "conn = connectivity.Connectivity.from_file(wd + \"/data/sub-01_AAL2_pass.zip\")  # Loads structural connectivity\n",
    "conn.weights = conn.scaled_weights(mode=\"tract\")  # Scales number of streamlines using the max\n",
    "conn.speed = np.array([3.9])  #(m/s) Defines conduction speed shaping delays\n",
    "\n",
    "## A2. Neural Mass Model\n",
    "m = JansenRit1995(He=np.array([3.25]), Hi=np.array([22]),\n",
    "                  tau_e=np.array([10]), tau_i=np.array([20]),\n",
    "                  c=np.array([1]), c_pyr2exc=np.array([135]), c_exc2pyr=np.array([108]),\n",
    "                  c_pyr2inh=np.array([33.75]), c_inh2pyr=np.array([33.75]),\n",
    "                  p=np.array([0.22]), sigma=np.array([0.15]),\n",
    "                  e0=np.array([0.005]), r=np.array([0.56]), v0=np.array([6]))\n",
    "\n",
    "# A3. Coupling function - How NMMs will link through structural connectivity (what variable to use and transformations to apply)\n",
    "coup = coupling.SigmoidalJansenRit(a=np.array([20]), cmax=np.array([0.005]),  midpoint=np.array([6]), r=np.array([0.56]))\n",
    "\n",
    "# A4. integrator: dt = timestep/datapoint = 1/samplingFreq(Hz=datapoints/timestep) -with timestep in NMM's timescale-.\n",
    "integrator = integrators.HeunStochastic(dt=1/samplingFreq, noise=noise.Additive(nsig = np.array([0])))\n",
    "\n",
    "# A5. Monitor - what information to extract / apply transformation (e.g. BOLD, EEG)?\n",
    "mon = (monitors.Raw(), )\n",
    "\n",
    "\n",
    "\n",
    "# B1. Configure simulation\n",
    "sim = simulator.Simulator(model=m, connectivity=conn, coupling=coup,  integrator=integrator, monitors=mon)\n",
    "sim.configure()\n",
    "\n",
    "# B2. Run simulation\n",
    "output = sim.run(simulation_length=simLength)\n",
    "print(\"Simulation time: %0.2f sec  |  %0.5f sec/sim.%s\" % \n",
    "      (time.time() - tic0, (time.time() - tic0)/simLength, timescale))\n",
    "\n",
    "\n",
    "\n",
    "# C1. Extract data cutting initial transient\n",
    "# output[monitor_id][time=0|data=1][timepoints, stateVars, ROIs, modes]\n",
    "raw_data = output[0][1][transient_dp:, 0, :, 0].T\n",
    "raw_time = output[0][0][transient_dp:]\n",
    "\n",
    "# C2. Plot signals and spectra\n",
    "timeseries_spectra(raw_data, simLength, transient_t, conn.region_labels, timescale=timescale, mode=\"inline\")"
   ]
  },
  {
   "cell_type": "markdown",
   "id": "8d4dfba6",
   "metadata": {
    "tags": []
   },
   "source": [
    "This is the output of a whole-brain simulation. This output could lead us, for example, to perform functional connectivity analysis checking for the correlation between structural and functional connectivity matrices [(Ponten et al., 2010)](https://doi.org/10.1016/j.neuroimage.2009.10.049). Or we could fit the model parameters to evaluate the impact of the local excitation-inhibition balance in brain dynamics [(Deco et al., 2014)](https://doi.org/10.1523/JNEUROSCI.5068-13.2014), among other applications. \n",
    "\n",
    "Being able to adapt this type of simulations to your research needs requires a deep understanding of the building blocks of the code used, as well as its flexibility to integrate and reproduce different electrophysiological phenomena.\n",
    "\n",
    "\n",
    "\n",
    "## 2. The building blocks of the simulation \n",
    "\n",
    "Several variables were defined to configure the simulation through the .Simulator() and .configure() methods of the simulator object:\n",
    "\n",
    "```\n",
    "sim = simulator.Simulator(model=m, connectivity=conn, coupling=coup,  integrator=integrator, monitors=mon)\n",
    "sim.configure()\n",
    "```\n",
    "\n",
    "We will deepen each of them."
   ]
  },
  {
   "cell_type": "markdown",
   "id": "8344bfba",
   "metadata": {
    "tags": []
   },
   "source": [
    "### 2.1 Structural connectivity\n",
    "\n",
    "The structural connectivity is implemented in TVB as a compressed .zip file containing information regarding: the weights between regions (in weights.txt), the lengths of the tracts for those connections (tract_lengths.txt), and the names and 3d position of the regions (in centres.txt). These are the files needed for our simulation, however, additional information can be included in the zip file such as: a list of 0/1 to distinguish cortical from subcortical regions (cortical.txt), average orientations of each region with a 3D vector (average_orientations.txt), the areas of each region in millimetres (areas.txt), etc. All this information is loaded with the command \"connectivity.Connectivity.from_file()\" and can be accessed and used depending on the type of simulation we want to perform. \n",
    "\n",
    "These files can be edited or replaced manually to adapt the simulation to your needs. In tvb-data, a set of samples for structural connectivity are ready to use (e.g., connectivity_76.zip) or to serve as a template to build your own. \n",
    "\n",
    "Although these matrices are generally symmetrical due to the technical limitations of DWI and tractography algorithms. However, it is important to note that, in the case of building an asymmetric network, TVB interprets rows=to and columns=from. In other words, $w_{ij}$ refers to the weights from node *j* to node *i*."
   ]
  },
  {
   "cell_type": "code",
   "execution_count": null,
   "id": "45a9ffce",
   "metadata": {},
   "outputs": [],
   "source": [
    "conn = connectivity.Connectivity.from_file(wd + \"/data/sub-01_AAL2_pass.zip\")  # Loads structural connectivity\n",
    "\n",
    "\n",
    "## Plot structural connectivity matrices: weights and tract lengths\n",
    "fig = make_subplots(rows=1, cols=2, horizontal_spacing=0.22, \n",
    "                    column_titles=[r\"$\\text{Weights }(w_{ij})$\", r\"$\\text{Tract lengths }(L_{ij})$\"])\n",
    "\n",
    "fig.add_trace(go.Heatmap(x=conn.region_labels, y=conn.region_labels, z=conn.weights,\n",
    "                         colorscale=\"Turbo\", colorbar=dict(x=0.4, thickness=10, title=\"count\")), row=1, col=1)\n",
    "fig.add_trace(go.Heatmap(x=conn.region_labels, y=conn.region_labels, z=conn.tract_lengths,\n",
    "                         colorscale=\"Turbo\", colorbar=dict(thickness=10, title=\"mm\")), row=1, col=2)\n",
    "fig.update_layout(height=400, width=700,\n",
    "                  xaxis1=dict(tickangle=45, title=\"from (j)\"), xaxis2=dict(tickangle=45),\n",
    "                  yaxis1=dict(title=\"to (i)\"), yaxis2=dict(showticklabels=False))\n",
    "fig.show()"
   ]
  },
  {
   "cell_type": "markdown",
   "id": "28ad1847-e03d-423e-b4f7-0c6bc2096582",
   "metadata": {},
   "source": [
    "#### 2.1.1 Normalize weights\n",
    "\n",
    "Normalizing weights' matrices serves to allow for comparable simulations independent of the parameters used in tractography (e.g., number of seeds used). The scaling can be performed globally, using the maximum of the matrix as reference (mode=\"tract\"); or locally, using the maximum weight of a region as a reference for the scaling of that region (mode=\"region\"). "
   ]
  },
  {
   "cell_type": "code",
   "execution_count": null,
   "id": "d6c0771a-6e7d-49fc-a103-c8b46d89a4ab",
   "metadata": {},
   "outputs": [],
   "source": [
    "conn.weights = conn.scaled_weights(mode=\"tract\")  # Scales number of streamlines using the max"
   ]
  },
  {
   "cell_type": "markdown",
   "id": "b7f73429",
   "metadata": {},
   "source": [
    "#### 2.1.2 Conduction speed\n",
    "\n",
    "The conduction speed ($v$) is a global parameter that interacts with the tract lengths ($L_{ij}$) to determine the delay in the propagation of a signal between regions ($d_{ij}$): \n",
    "\n",
    "$$\n",
    "d_{ij} = \\frac{L_{ij}}{v}\n",
    "$$\n",
    "\n",
    "In this simulation, we used 3.9 m/s as derived by [Lemarechal et al. (2022)](https://doi.org/10.1093/brain/awab362)."
   ]
  },
  {
   "cell_type": "code",
   "execution_count": null,
   "id": "36ecb7de",
   "metadata": {},
   "outputs": [],
   "source": [
    "conn.speed = np.array([3.9])  #(m/s) Defines conduction speed shaping delays"
   ]
  },
  {
   "cell_type": "markdown",
   "id": "6ded77ba",
   "metadata": {},
   "source": [
    "> **Exercise 1.** Unzip sub-01_AAL2_pass.zip in Pycharm, and explore the structure of the text files inside. Then, load paupau.zip (a network with 4 nodes) from the tvb-data package, and simulate it."
   ]
  },
  {
   "cell_type": "code",
   "execution_count": null,
   "id": "276a63b6",
   "metadata": {},
   "outputs": [],
   "source": [
    "\"\"\" Exercise 1. Simulate paupau.zip, and check how different configurations of weights generate different outputs.\n",
    "Remember that other variables defined previously remain (e.g., model, monitor, integrator, etc.)\"\"\"\n",
    "\n",
    "\n",
    "\"\"\"   Load your brand new network   \"\"\"\n",
    "conn = connectivity.Connectivity.from_file(\"paupau.zip\")  # Loads structural connectivity\n",
    "\n",
    "\n",
    "conn.weights = conn.scaled_weights(mode=\"tract\")  # Scales number of streamlines using the max\n",
    "conn.speed = np.array([3.9])  #(m/s) Defines conduction speed shaping delays\n",
    "\n",
    "\n",
    "timescale, simLength, transient_t = \"ms\", 2000, 1000  # simulated timesteps in the NMM timescale - ms; transient time to exclude from analysis\n",
    "samplingFreq = 1  # Hz - datapoints/timestep \n",
    "transient_dp = transient_t * samplingFreq  # convert transient time into number of datapoints\n",
    "\n",
    "\n",
    "tic0 = time.time()  # Measure simulation time\n",
    "\n",
    "# B1. Configure simulation\n",
    "sim = simulator.Simulator(model=m, connectivity=conn, coupling=coup,  integrator=integrator, monitors=mon)\n",
    "sim.configure()\n",
    "\n",
    "# B2. Run simulation\n",
    "output = sim.run(simulation_length=simLength)\n",
    "print(\"Simulation time: %0.2f sec  |  %0.5f sec/sim.%s\" % \n",
    "      (time.time() - tic0, (time.time() - tic0)/simLength, timescale))\n",
    "\n",
    "\n",
    "# C1. Extract data cutting initial transient\n",
    "# output[monitor_id][time=0|data=1][timepoints, stateVars, ROIs, modes]\n",
    "raw_data = output[0][1][transient_dp:, 0, :, 0].T  \n",
    "raw_time = output[0][0][transient_dp:]\n",
    "\n",
    "# C2. Plot signals and spectra\n",
    "timeseries_spectra(raw_data, simLength, transient_t, conn.region_labels, timescale=timescale, mode=\"inline\")"
   ]
  },
  {
   "cell_type": "markdown",
   "id": "db47541b",
   "metadata": {
    "tags": []
   },
   "source": [
    "### 2.2 Neural mass model\n",
    "\n",
    "There are different types of NMMs that reproduce different features of brain activity (see this [tutorial on neural masses](Tutorial_NeuralMasses.ipynb) for an introduction) and can be implemented into a BNM. In our previous simulation, we used a Jansen-Rit NMM [(Jansen & Rit, 1995)](https://doi.org/10.1007/BF00199471) that is a biologically-plausible NMM intended to reproduce the activity of a cortical column -including pyramidal cells (y0), excitatory (y1) and inhibitory (y2) interneurons- in terms of voltage by a set of second-order differential equations:\n",
    "\n",
    "$$\n",
    "\\begin{gather}\n",
    "    \\dot y_{0_i}(t) = y_{3_i}(t) \\label{eq:y0}\\\\\n",
    "    \\dot y_{1_i}(t) = y_{4_i}(t) \\label{eq:y1}\\\\\n",
    "    \\dot y_{2_i}(t) = y_{5_i}(t) \\label{eq:y2}\\\\\n",
    "    \\dot y_{3_i}(t) = \\frac{He}{taue} \\cdot S[y_{1_i}(t) - y_{2_i}(t)] - \\frac{2}{ taue} \\cdot y_{3_i}(t) - \\frac{1}{taue^2} \\cdot y_{0_i}(t) \\label{eq:y3}\\\\\n",
    "    \\dot y_{4_i}(t) = \\frac{He}{taue} \\cdot (input(t) + C_{ep} \\cdot S[C_{pe} \\cdot y_{0_i}(t)]) - \\frac{2}{taue} \\cdot y_{4_i}(t) - \\frac{1}{taue^2} \\cdot y_{1_i}(t) \\label{eq:y4}\\\\\n",
    "    \\dot y_{5_i}(t) = \\frac{Hi}{taui} \\cdot (C_{ip} \\cdot S[C_{pi} \\cdot y_{0_i}(t)]) - \\frac{2}{taui} \\cdot y_{5_i}(t) - \\frac{1}{taui^2} \\cdot y_{2_i}(t) \\label{eq:y5}\n",
    "\\end{gather}\n",
    "$$\n",
    "\n",
    "Where **S[v]** is a sigmoidal function that converts the population averaged voltage into firing rate:\n",
    "\n",
    "\n",
    "$$\n",
    "\\begin{gather}\n",
    " S\\left[v\\right]\\ =\\ \\frac{e_0}{1\\ +\\ \\exp^{r\\left(v_0-v\\right)}}\n",
    " \\label{eq:sigmoid}\n",
    "\\end{gather}\n",
    "$$\n",
    "\n",
    "and the **input(t)** represents the sum of interregional afferences and intrinsic input ($p_i +\\eta_i(t)$):\n",
    "$$\n",
    "\\begin{gather}\n",
    "    input(t) = p_i + \\eta_i(t) + g\\sum_{j=1}^{n} w_{ji} \\cdot S[y_{1_j}(t - d_{ji}) - y_{2_j}(t - d_{ji})]\n",
    "\\end{gather}\n",
    "$$\n",
    "\n",
    "\n",
    "with the following parameters:\n",
    "\n",
    "\n",
    "| Parameter            | Value | Unit                   | Description                                                      |\n",
    "|----------------------|-------|------------------------|------------------------------------------------------------------|\n",
    "| He                   | 3.25  | mV                     | Average excitatory synaptic gain                                 |\n",
    "| Hi                   | 22    | mV                     | Average inhibitory synaptic gain                                 |\n",
    "| taue                 | 10    | ms                     | Time Constant of excitatory PSP                                  |\n",
    "| taui                 | 20    | ms                     | Time Constant of inhibitory PSP                                  |\n",
    "| Cpe                  | 135   |                        | Average synaptic contacts: pyramidals to excitatory interneurons |\n",
    "| Cep                  | 108   |                        | Average synaptic contacts: excitatory interneurons to pyramidals |\n",
    "| Cpi                  | 33.75 |                        | Average synaptic contacts: pyramidals to inhibitory interneurons |\n",
    "| Cip                  | 33.75 |                        | Average synaptic contacts: inhibitory interneurons to pyramidals |\n",
    "|                      |       |                        |                                                                  |\n",
    "| p                    | 0.1085| $ms^{-1}$              | Mean of random gaussian intrinsic input                          |\n",
    "| $\\eta$               | 0.022 | $ms^{-1}$              | Standard deviation of random gaussian intrinsic input (noise)    |\n",
    "|                      |       |                        |                                                                  |\n",
    "| $e_0$            | 0.005 | $ms^{-1}$              | Maximum firing rate                                     |\n",
    "| r                    | 0.56  | $mV^{-1}$              | Slope of the presynaptic function at $v_0$                       |\n",
    "| $v_{0}$              | 6     | mV                     | Potential when half the maximum firing rate is achieved          |\n",
    "|                      |       |                        |                                                                  |\n",
    "| g                    | 25    |                        | Coupling factor for inter-regional communication                 |\n",
    "| s                    | 3.9    | mm/ms                  | Conduction speed for inter-regional communication                |\n",
    "\n",
    "\n",
    "-----\n",
    "\n",
    "\n",
    "\n",
    "<img src=\"images/JRmodel.png\" alt=\"Figure 1\" width=\"700px\">\n",
    "\n",
    "**Figure 1** Schemes of the JR model. a) Block diagram depicting JR operators and modules where each color is associated with a different neural population: pyramidal (cyan), excitatory interneurons (green) and inhibitory\n",
    "interneuron (red). b) Histological contextualization of the cortical layers. Taken from [Cabrera-Álvarez et al. (2023)](https://doi.org/10.1101/2023.03.07.531650)."
   ]
  },
  {
   "cell_type": "code",
   "execution_count": null,
   "id": "13d5c910",
   "metadata": {},
   "outputs": [],
   "source": [
    "m = JansenRit1995(He=np.array([3.25]), Hi=np.array([22]),  # PSP parameters\n",
    "                  tau_e=np.array([10]), tau_i=np.array([20]),\n",
    "                  \n",
    "                  c=np.array([1]),  # Average synaptic connections between cell types\n",
    "                  c_pyr2exc=np.array([135]), c_exc2pyr=np.array([108]),\n",
    "                  c_pyr2inh=np.array([33.75]), c_inh2pyr=np.array([33.75]),\n",
    "                  \n",
    "                  p=np.array([0.22]), sigma=np.array([0.22]),  # Intrinsic input mean (p) and std (sigma; i.e., noise)\n",
    "                  \n",
    "                  e0=np.array([0.005]), r=np.array([0.56]), v0=np.array([6]))  # Voltage to firing rate transfer function parameters"
   ]
  },
  {
   "cell_type": "markdown",
   "id": "ed1a431b",
   "metadata": {},
   "source": [
    "To deepen the behaviour of a dynamical system such as a NMM, two analytical tools from physics become insightful: the phase plane and the bifurcation diagrams. A **phase plane** is a graphical representation of the state variables of a dynamical system against each other. It is commonly used to analyze the qualitative behaviour of the system over time by examining the shape, stability and patterns of its trajectories. Through this type of analysis, we search for attractors (i.e., trajectories that the system tends to approach or converge to over time) such as *equilibrium points* in which the system remains static indefinitely, and *limit cycles* in which the system follows a closed trajectory repeatedly in the phase space without converging into an equilibrium point.\n",
    "\n",
    "On the other hand, a **bifurcation diagram** is a graphical representation that shows the potential states of a system as a function of one parameter. For instance, NMMs are usually fed by intrinsic or extrinsic inputs such that an elevated input leads to a limit cycle (i.e., oscillatory activity), while a low input leads to an equilibrium point (no oscillation). The *bifurcation point* or *critical point* is the parameter value at which the system changes its behaviour, for example, switching from equilibrium to limit cycle state (see [Deco & Jirsa, 2012](https://doi.org/10.1523/JNEUROSCI.2523-11.2012)).  \n",
    "\n",
    "\n",
    "\n",
    "Let's use these analytical tools to deepen the Jansen-Rit model. \n",
    "\n",
    "#### 2.2.1 Phase plane\n",
    "\n",
    "The phase plane of a Jansen-Rit model is usually constructed using the state variable y0 and its derivative y3, other pairs of variables could be explored though. Here, we will use our last simulation's output to extract and plot the mentioned state variables (i.e., y0 and y3). By default, the output of simulating the JR model in TVB gathers data regarding y0, y1, y2, and y3 state variables, however, this set could be extended to the rest of state variables (i.e., y4 and y5) by changing the parameter \"variables_of_interest\" of the model. In our case, this is not necessary."
   ]
  },
  {
   "cell_type": "code",
   "execution_count": null,
   "id": "86b7fb9f",
   "metadata": {},
   "outputs": [],
   "source": [
    "# C1. Extract data cutting initial transient\n",
    "transient_t = 1000  # ms - simulated timesteps (in JR timescale)\n",
    "transient_dp = transient_t * samplingFreq  # convert transient time into number of datapoints\n",
    "\n",
    "# Prepare the variables that feed in the phase plane\n",
    "# output[monitor_id][time=0|data=1][timepoints, stateVars, ROIs, modes]\n",
    "region_id = 0  # Select region of interest to plot its phase plane\n",
    "y0 = output[0][1][transient_dp:, 0, region_id, 0].T  \n",
    "y3 = output[0][1][transient_dp:, 3, region_id, 0].T  \n",
    "t = output[0][0][transient_dp:] \n",
    "\n",
    "timeseries_phaseplane(t, y0, y3, mode=\"inline\", params=[\"Voltage (mV) <br> y0\", \"y3\"], speed=4)"
   ]
  },
  {
   "cell_type": "markdown",
   "id": "414892f5-3254-44c0-8b62-a58e966413fa",
   "metadata": {},
   "source": [
    "> **Exercise 2.** Explore what happens when we include in the analysis the initial transient (<1000 ms)"
   ]
  },
  {
   "cell_type": "code",
   "execution_count": null,
   "id": "2544545f-6e60-4607-a027-370ebf1ae811",
   "metadata": {},
   "outputs": [],
   "source": [
    "\"\"\" Exercise 2. Explore what happens when we include the initial transient. \"\"\""
   ]
  },
  {
   "cell_type": "markdown",
   "id": "742bf278",
   "metadata": {
    "tags": []
   },
   "source": [
    "#### 2.2.2 Bifurcation diagram\n",
    "As stated before, in a dynamical system a bifurcation occurs when a change in a parameter produces a change in the system's behaviour. NMMs tend to present supercritical Hopf bifurcations for the input parameter. A Hopf bifurcation is specifically the bifurcation in which an equilibrium state changes into an oscillation, and is supercritical because the oscillatory behaviour happens above *the critical point*. \n",
    "\n",
    "The 2D representation of a NMM bifurcation is usually made by representing the maximum and minimum voltage of a simulation for each value of the bifurcation parameter being explored (see [Grimbert & Faugeras, 2006](https://doi.org/10.1162/neco.2006.18.12.3052)). Here, we will add a 3D representation of the bifurcation diagram including phase planes as exposed previously. \n"
   ]
  },
  {
   "cell_type": "code",
   "execution_count": null,
   "id": "e4522d1e",
   "metadata": {},
   "outputs": [],
   "source": [
    "## Bifurcation diagrams: Exploring the input parameter (p)\n",
    "bifparam_vals = np.linspace(0, 0.2, 15)\n",
    "\n",
    "simLength, transient_t, region_id = 5000, 4500, 0\n",
    "transient_dp = transient_t * samplingFreq  # convert transient time into number of datapoints\n",
    "\n",
    "\n",
    "out2D, out3D = [], []\n",
    "for i, bifparam in enumerate(bifparam_vals):\n",
    "\n",
    "    tic0 = time.time()\n",
    "\n",
    "    ## A2. Neural Mass Model\n",
    "    m.p = np.array([bifparam])\n",
    "    \n",
    "    # A3. Coupling function\n",
    "    coup.a = np.array([0])\n",
    "\n",
    "    # B1. Configure simulation\n",
    "    sim = simulator.Simulator(model=m, connectivity=conn, coupling=coup, integrator=integrator, monitors=mon)\n",
    "    sim.configure()\n",
    "\n",
    "    # B2. Run simulation\n",
    "    output = sim.run(simulation_length=simLength)\n",
    "    print(\"Simulation %i/%i  .  time: %0.2f sec  |  %0.5f sec/sim.%s\" %\n",
    "          (i+1, len(bifparam_vals), time.time() - tic0, (time.time() - tic0)/simLength, timescale), end=\"\\r\")\n",
    "\n",
    "\n",
    "    # output[monitor_id][time=0|data=1][timepoints, stateVars, ROIs, modes]\n",
    "    out2D.append([bifparam, min(output[0][1][transient_dp:, 0, region_id, 0].T), max(output[0][1][transient_dp:, 0, region_id, 0].T)])\n",
    "    out3D.append([bifparam, output[0][1][transient_dp:, 0, region_id, 0].T, output[0][1][transient_dp:, 3, region_id, 0].T])\n",
    "\n",
    "print(\"- Done ! -\")\n",
    "out2D, out3D = np.asarray([out2D])[0], np.asarray([out3D])[0]"
   ]
  },
  {
   "cell_type": "code",
   "execution_count": null,
   "id": "a8c42af2-5d4f-4561-9382-f6ed3252e000",
   "metadata": {},
   "outputs": [],
   "source": [
    "## FIGURES :: Bifurcation in 2D/3D\n",
    "fig = make_subplots(rows=2, cols=1, specs=[[{\"type\": \"scene\"}], [{}]], row_heights=[0.85, 0.15], vertical_spacing=0.05)\n",
    "\n",
    "# 2D representation\n",
    "fig.add_trace(go.Scatter(x=out2D[:, 0], y=out2D[:, 1], showlegend=False, marker=dict(color=\"black\")), row=2, col=1)\n",
    "fig.add_trace(go.Scatter(x=out2D[:, 0], y=out2D[:, 2], showlegend=False, marker=dict(color=\"black\")), row=2, col=1)\n",
    "\n",
    "# 3D representation\n",
    "for i, p in enumerate(bifparam_vals):\n",
    "    fig.add_trace(go.Scatter3d(x=[out3D[i, 0]]*len(out3D[i, 1]), y=out3D[i, 2], z=out3D[i, 1],\n",
    "                               showlegend=False, marker=dict(size=2)), row=1, col=1)\n",
    "\n",
    "fig.update_layout(template=\"plotly_white\", height=700, width=700,\n",
    "                  xaxis=dict(title=\"p (input)\"), yaxis=dict(title=\"Voltage (mV) <br> min-max <br> y0\"),\n",
    "                  scene1=dict(xaxis=dict(title=\"p (input)\", autorange=\"reversed\"), yaxis=dict(title=\"y3\"), zaxis=dict(title=\"Voltage (mV) <br> y0\"),\n",
    "                              camera=dict(eye=dict(x=0.7, y=2, z=0.5), center=dict(z=-0.25))))\n",
    "plotly.offline.iplot(fig)"
   ]
  },
  {
   "cell_type": "markdown",
   "id": "762cf34d-7a35-428e-86dd-47c3b450d44d",
   "metadata": {},
   "source": [
    "> **Exercise 3.** Remove noise from simulations and re-draw a bifurcation diagram and a phase plane for a JR NMM. "
   ]
  },
  {
   "cell_type": "code",
   "execution_count": null,
   "id": "d58930e6-c868-4fd9-a8a0-d117ebcf00f8",
   "metadata": {},
   "outputs": [],
   "source": [
    "\"\"\" Exercise 3. Remove noise from simulations and re-draw the phase plane and/or bifurcation diagram for a JR NMM. \"\"\"\n"
   ]
  },
  {
   "cell_type": "markdown",
   "id": "d38fdf28-b0e9-4362-bba5-464c0efb0a86",
   "metadata": {
    "tags": []
   },
   "source": [
    "### 2.3 Coupling function\n",
    "\n",
    "The coupling function mediates how structurally connected neural masses influence each other (e.g., what state variables should be used? Should they be transformed? How strong are the mutual influences defined in the SC matrix?). The parameters of this function are applied globally to all the simulated connections. Different NMMs may use different coupling functions: from a simple linear scaling of a state variable to a sigmoidal transformation of a combination of state variables. \n",
    "\n",
    "In the case of the JR model, the afference to a neural mass is considered to be the delayed activity of the neighbouring pyramidal cells in terms of firing rate, scaled interregionally by SC weights ($w_{ij}$) and globally by a **coupling factor (a)**. It represents the third element of the input(t) as defined above:\n",
    "\n",
    "$$\n",
    "\\begin{gather}\n",
    "\\color{lightgray}{input(t) = p_i + \\eta_i(t) + \\color{black}{ a\\sum_{j=1}^{n} w_{ij} \\cdot S[y_{1_j}(t - d_{ij}) - y_{2_j}(t - d_{ij})]}}\n",
    "\\end{gather}\n",
    "$$\n",
    "\n",
    "\n",
    "Where $S[v]$, again represents the firing rate of pyramidal cells using the same sigmoidal function applied inside the NMM for communicating cellular subpopulations:\n",
    "\n",
    "$$\n",
    "\\begin{gather}\n",
    " S\\left[v\\right]\\ =\\ \\frac{v_{\\max}}{1\\ +\\ \\exp^{r\\left(v_0-v\\right)}}\n",
    " \\label{eq:sigmoid}\n",
    "\\end{gather}\n",
    "$$\n",
    "\n",
    "Note that the coupling parameters defined inside the model for subpopulation communication (see the values for parameters *e0*, *v0* and *r*) coincide with the parameters defined for interregional coupling (see the values for parameters *cmax*, *midpoint* and *r*)."
   ]
  },
  {
   "cell_type": "code",
   "execution_count": null,
   "id": "afb41636-8806-420d-b364-d761091be634",
   "metadata": {},
   "outputs": [],
   "source": [
    "# A3. Coupling function - How NMMs will link through structural connectivity (what variable to use and transformations to apply)\n",
    "coup = coupling.SigmoidalJansenRit(a=np.array([20]), cmax=np.array([0.005]),  midpoint=np.array([6]), r=np.array([0.56]))"
   ]
  },
  {
   "cell_type": "markdown",
   "id": "b188b7d9-90c6-431b-ab4f-df5af66f589d",
   "metadata": {
    "tags": []
   },
   "source": [
    "> **Exercise 4.** Is the coupling factor a bifurcation parameter? Design an experiment to answer this question. Then, adapt the code provided above to simulate and represent graphically your response. Use p=0.09 and coupling range=[0-30]."
   ]
  },
  {
   "cell_type": "code",
   "execution_count": null,
   "id": "0bd93d9d-e170-4c05-8fbe-92ac595026c4",
   "metadata": {},
   "outputs": [],
   "source": [
    "\"\"\"\n",
    "Exercise 4. Is the coupling factor a bifurcation parameter? Re-use the code provided above\n",
    "\"\"\""
   ]
  },
  {
   "cell_type": "markdown",
   "id": "a2b960ad-8666-4c95-a0b5-d200d3868fbd",
   "metadata": {},
   "source": [
    "### 2.4 Integrator\n",
    "\n",
    "The integrator defines the method used for solving the systems of differential equations. There are several integration methods available in TVB. We will comment on two of them: Euler's and Heun's methods. Euler's method calculates the trajectory of a dynamical system based just on its derivatives in time. On the other hand, Heun's method is known as an improved version of Euler's, it takes several consecutive derivatives to estimate the next trajectory step and minimize integration errors. This makes Heun's method more stable and precise, at the cost of being more computationally expensive. Both methods could be implemented in a deterministic or stochastic fashion, allowing for the introduction of noise and random initial states in the simulation. \n",
    "\n",
    "An important parameter of the integrator is the step size of the derivatives (i.e., dt). The larger the step size, the less simulated datapoints and the faster the computation times. However, is important to choose an adequate step size for the NMM used to avoid simulation instabilities. Note that different models may be defined at different timescales: a timestep for model A may represent a millisecond while a timestep for another model may represent a second. Additionally, in the case of stochastic integration, the magnitude of the implemented noise could also lead to instabilities. So, whenever having issues implementing a new neural mass model, check whether the integration method, the step size, or the noise magnitude may be generating instabilities.  \n",
    "\n",
    "With an stochastic integrator, noise is added at each integration timestep for each state variable of the system. In the case of the original JR, the noise is implemented just thorugh the intrinsic input (i.e., p + $\\eta$) to the excitatory interneurons (y1). This is a much more controlled implementation of noise than the stochastic integration. Therefore, for JR, we are not using the integrator noise. However, we use the stochastic Heun's integrator for another relevant reaseon, the randomization of initial state variables (note that each simulation produces a different temporal trace). \n",
    "\n",
    "\n",
    "> **Exercise 5.** Explore the effects of different noise implementation: NMM vs integrator."
   ]
  },
  {
   "cell_type": "code",
   "execution_count": null,
   "id": "4272c713-3bff-4cba-89bd-854c7e97d0d5",
   "metadata": {},
   "outputs": [],
   "source": [
    "\"\"\"Exercise 5. Explore the effects of different noise implementation: NMM vs integrator.\"\"\"\n",
    "\n",
    "## A2. Neural Mass Model\n",
    "m.sigma = np.array([0.022])\n",
    "\n",
    "\n",
    "# A4. integrator: dt = timestep/datapoint = 1/samplingFreq(Hz=datapoints/timestep) -with timestep in NMM's timescale-.\n",
    "integrator = integrators.HeunStochastic(dt=1/samplingFreq, noise=noise.Additive(nsig=np.array([0])))\n",
    "\n",
    "\n",
    "tic0 = time.time()\n",
    "\n",
    "simLength, transient_t, region_id = 3000, 1000, 0\n",
    "transient_dp = transient_t * samplingFreq  # convert transient time into number of datapoints    \n",
    "    \n",
    "# B1. Configure simulation\n",
    "sim = simulator.Simulator(model=m, connectivity=conn, coupling=coup,  integrator=integrator, monitors=mon)\n",
    "sim.configure()\n",
    "\n",
    "# B2. Run simulation\n",
    "output = sim.run(simulation_length=simLength)\n",
    "print(\"Simulation time: %0.2f sec  |  %0.5f sec/sim.%s\" % (time.time() - tic0, (time.time() - tic0)/simLength, timescale))\n",
    "\n",
    "\n",
    "# C1. Extract data cutting initial transient\n",
    "# output[monitor_id][time=0|data=1][timepoints, stateVars, ROIs, modes]\n",
    "raw_data = output[0][1][transient_dp:, 0, :, 0].T  \n",
    "raw_time = output[0][0][transient_dp:]\n",
    "\n",
    "# C2. Plot signals and spectra\n",
    "timeseries_spectra(raw_data, simLength, transient_t, conn.region_labels, timescale=timescale, mode=\"inline\")"
   ]
  },
  {
   "cell_type": "markdown",
   "id": "21854e27-b4ac-4960-b98f-32e18a1c79b6",
   "metadata": {},
   "source": [
    "### 2.5 Monitors\n",
    "\n",
    "Monitors define what output will be saved from the simulations, and whether they must be transformed somehow. A BNM simulation generates a signal for each state variable of each region implemented in the model. These signals are supposed to be source signals located inside the virtual brain. From the simulations performed earlier, we have extracted directly the raw output of the JR state variables. However, sometimes becomes convenient to perform some transformation to this output. For instance, you could prefer to downsample the temporal traces due to memory load (use monitors.TemporalAverage()), or you could prefer to see the signals in the channel space of a M/EEG system (use monitors.EEG()). The monitors perform these transformations online during the simulations. \n",
    "\n",
    "Some of these monitors become more useful in the context of [surface-based simulations](#surface-simulations) where larger amounts of data may require spatial or temporal averaging, or it may become more interesting to transform source data to fMRI, MEG, or EEG recording type."
   ]
  },
  {
   "cell_type": "code",
   "execution_count": null,
   "id": "a2b9fefd-5ae7-413c-96df-cba1de308981",
   "metadata": {},
   "outputs": [],
   "source": [
    "# A5. Monitor - what information to extract / apply transformation (e.g. BOLD, EEG)?\n",
    "mon = (monitors.Raw(), monitors.TemporalAverage(period=20),)"
   ]
  },
  {
   "cell_type": "markdown",
   "id": "06e3b066-53ab-459c-8504-c29883ec88bb",
   "metadata": {},
   "source": [
    "### 2.6 Additional blocks\n",
    "\n",
    "There are two additional blocks that were not included in our simulator object but are useful for specific applications: the surface and the stimulus. The surface refers to a mesh of the cortex that is used to extend the spatial domain of the BNM to a surface model. The stimulus allows to implement a simulated stimulation to the virtual brain. This stimulus would be directly summed up during integration scheme to the specified state variable. Different types of stimulation could be modeled and implemented (e.g., tDCS, tACS, TMS, DBS). "
   ]
  },
  {
   "cell_type": "markdown",
   "id": "3639a5ea",
   "metadata": {
    "tags": []
   },
   "source": [
    "## 3. BNM Stimulation\n",
    "\n",
    "                    To be continued... (SEPNECA 2024?)\n",
    "\n",
    "\n",
    "## 4. **Surfaced**-BNMs <a id='surface-simulations'></a>\n",
    "\n",
    "                    To be continued... (SEPNECA 2024?)"
   ]
  },
  {
   "cell_type": "markdown",
   "id": "d812bc68-2d4b-4577-9a8c-14b23095079a",
   "metadata": {},
   "source": [
    "# · More exercises \n",
    "\n",
    "Usually, coding for any application (in our case computational neuroscience) is developed in an integrated development environment (IDE), a software that provides useful tools to write and debug code, such as Spyder or Pycharm. Now, go to Pycharm to work on the last assignments.\n",
    "\n",
    "> **Exercise 6.** Build, simulate and plot the JR-BNM in Pycharm. Use the code and tools provided.\n",
    "\n",
    "> **Exercise 7 (optional).** A) Explore the behaviour of a single JR-NMM when varying its parameters taue and taui. As time constants, they have a strong impact on the oscillatory frequency (see chart below). How would you explore their impact? Hint: get some inspiration from functions/mixes.py. B) Explore the behaviour of parameters He and Hi (amplitude of PSP). Do they affect the frequency of oscillation? ![](images/FrequencyCharts_tau.png)\n",
    "\n",
    "\n",
    "> **Exercise 8.** Using the *project* bar in Pycharm, look in the *external libraries* for the tvb packages. Could you find the code for the Linear coupling function? How many model types are implemented in TVB? What's the size (kB) of the paupau connectivity in tvb-data?  \n",
    "\n",
    "> **Exercise 9.** Build, simulate and plot a BNM with a neural mass of your interest, and different from JR-NMM.\n",
    "\n",
    "> **Exercise 10.** Give a thought on whether these types of models could help you in your research. What could you do with a virtual version of your participants' brains? What hypothesis would you test on a generic virtual brain? What limitations do you expect from using these models?"
   ]
  },
  {
   "cell_type": "markdown",
   "id": "aca869a9",
   "metadata": {},
   "source": [
    "# · Useful resources \n",
    "**installation** - To use TVB, you need a Python version installed. Python includes a package distribution system called pipy. You could use it to install the necessary packages by typing in terminal: *pip install whatever-package-name*; for instance, *pip install tvb-library*, *pip install tvb-data*, or *pip install plotly*.\n",
    "\n",
    "\n",
    "- [TVB Documentation](https://docs.thevirtualbrain.org/)\n",
    "- [DSI studio tutorials](https://dsi-studio.labsolver.org/doc/) for a user friendly and accurate tool to extract SC matrices in limited time (see [Maier-Hein, 2017](https://doi.org/10.1038/s41467-017-01285-x) for a pipeline comparison).  \n",
    "- [EBRAINS platform](https://www.ebrains.eu/) for datasets, brain atlases, modeling tools, etc."
   ]
  },
  {
   "cell_type": "markdown",
   "id": "737f848a-5332-4421-922e-b65c23ee0858",
   "metadata": {},
   "source": [
    "# · References\n",
    "\n",
    "Breakspear, M. (2017). Dynamic models of large-scale brain activity. In Nature Neuroscience (Vol. 20, Issue 3, pp. 340–352). Springer Science and Business Media LLC. https://doi.org/10.1038/nn.4497\n",
    "\n",
    "Sanz-Leon, P., Knock, S. A., Spiegler, A., & Jirsa, V. K. (2015). Mathematical framework for large-scale brain network modeling in The Virtual Brain. In NeuroImage (Vol. 111, pp. 385–430). Elsevier BV. https://doi.org/10.1016/j.neuroimage.2015.01.002\n",
    "\n",
    "\n",
    "On the **construction of BNMs**:\n",
    "\n",
    "Schirner, M., Rothmeier, S., Jirsa, V. K., McIntosh, A. R., & Ritter, P. (2015). An automated pipeline for constructing personalized virtual brains from multimodal neuroimaging data. In NeuroImage (Vol. 117, pp. 343–357). Elsevier BV. https://doi.org/10.1016/j.neuroimage.2015.03.055\n",
    "\n",
    "\n",
    "\n",
    "Studies **using BNMs**:\n",
    "\n",
    "Cabral, J., Castaldo, F., Vohryzek, J., Litvak, V., Bick, C., Lambiotte, R., Friston, K., Kringelbach, M. L., & Deco, G. (2022). Metastable oscillatory modes emerge from synchronization in the brain spacetime connectome. In Communications Physics (Vol. 5, Issue 1). Springer Science and Business Media LLC. https://doi.org/10.1038/s42005-022-00950-y\n",
    "\n",
    "Jirsa, V., Wang, H., Triebkorn, P., Hashemi, M., Jha, J., Gonzalez-Martinez, J., Guye, M., Makhalova, J., & Bartolomei, F. (2023). Personalised virtual brain models in epilepsy. In The Lancet Neurology (Vol. 22, Issue 5, pp. 443–454). Elsevier BV. https://doi.org/10.1016/s1474-4422(23)00008-x\n",
    "\n",
    "Petkoski, S., Ritter, P., & Jirsa, V. K. (2023). White-matter degradation and dynamical compensation support age-related functional alterations in human brain. In Cerebral Cortex (Vol. 33, Issue 10, pp. 6241–6256). Oxford University Press (OUP). https://doi.org/10.1093/cercor/bhac500\n",
    "\n",
    "\n",
    "\n",
    "Some on the **stimulation of BNMs**:\n",
    "\n",
    "Merlet, I., Birot, G., Salvador, R., Molaee-Ardekani, B., Mekonnen, A., Soria-Frish, A., Ruffini, G., Miranda, P. C., & Wendling, F. (2013). From Oscillatory Transcranial Current Stimulation to Scalp EEG Changes: A Biophysical and Physiological Modeling Study. In G. R. Barnes (Ed.), PLoS ONE (Vol. 8, Issue 2, p. e57330). Public Library of Science (PLoS). https://doi.org/10.1371/journal.pone.0057330\n",
    "\n",
    "Muldoon, S. F., Pasqualetti, F., Gu, S., Cieslak, M., Grafton, S. T., Vettel, J. M., & Bassett, D. S. (2016). Stimulation-Based Control of Dynamic Brain Networks. In C. C. Hilgetag (Ed.), PLOS Computational Biology (Vol. 12, Issue 9, p. e1005076). Public Library of Science (PLoS). https://doi.org/10.1371/journal.pcbi.1005076\n",
    "\n",
    "\n",
    "\n",
    "Some more using **Surface-based BNM**:\n",
    "\n",
    "Spiegler, A., Abadchi, J. K., Mohajerani, M., & Jirsa, V. K. (2020). In silico exploration of mouse brain dynamics by focal stimulation reflects the organization of functional networks and sensory processing. In Network Neuroscience (Vol. 4, Issue 3, pp. 807–851). MIT Press. https://doi.org/10.1162/netn_a_00152\n",
    "\n",
    "Spiegler, A., Hansen, E. C. A., Bernard, C., McIntosh, A. R., & Jirsa, V. K. (2016). Selective Activation of Resting-State Networks following Focal Stimulation in a Connectome-Based Network Model of the Human Brain. In eneuro (Vol. 3, Issue 5, p. ENEURO.0068-16.2016). Society for Neuroscience. https://doi.org/10.1523/eneuro.0068-16.2016"
   ]
  }
 ],
 "metadata": {
  "kernelspec": {
   "display_name": "Python 3 (ipykernel)",
   "language": "python",
   "name": "python3"
  },
  "language_info": {
   "codemirror_mode": {
    "name": "ipython",
    "version": 3
   },
   "file_extension": ".py",
   "mimetype": "text/x-python",
   "name": "python",
   "nbconvert_exporter": "python",
   "pygments_lexer": "ipython3",
   "version": "3.9.9"
  },
  "toc-autonumbering": false,
  "toc-showcode": false,
  "toc-showmarkdowntxt": false,
  "toc-showtags": false
 },
 "nbformat": 4,
 "nbformat_minor": 5
}
