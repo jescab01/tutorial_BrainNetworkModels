{
 "cells": [
  {
   "cell_type": "markdown",
   "id": "1467c105-d0ef-4c2d-ba35-43a984f104aa",
   "metadata": {},
   "source": [
    "# Neural Mass Models\n",
    "\n",
    "A neural mass model is a set of equations that decribe the dynamics and behaviour of a large population of interconnected neurons as a collective entity. Instead of focusing on the detailed activity of individual neurons, a neural mass model provides a simplified representation of the average behavior of the population. These models often include subpopulations to reproduce functional and biological features of the neural tissue, for instance, including excitatory and inhibitory subpopulations and describing their interactions. A neural mass aims to capture the macroscopic behavior of the population, such as the overall firing rate or synchronization patterns, rather than the precise spiking activity of individual neurons. They are especially useful for studying phenomena at a larger scale, such as cortical columns or brain regions. The rationale behind this approach has been previously discussed:\n",
    "\n",
    "> “ ... most of what is known about the operation of the brain in relation to behavior has come from studies based on stimulation, field potential recordings or ablation of masses of brain tissue containing tens or hundreds millions of neurons. ... the numbers are too great to conceive the modeling in terms of finite numbers of cells.” [Freeman (1972)](https://doi.org/10.1146/annurev.bb.01.060172.001301)\n",
    "\n",
    "\n",
    "**What is not a neural mass?** \n",
    "\n",
    "\n",
    "sjdfouiasdbijbasdf"
   ]
  },
  {
   "cell_type": "code",
   "execution_count": null,
   "id": "74c710b7-bf07-4a75-9f8c-2d54de7b7f03",
   "metadata": {},
   "outputs": [],
   "source": []
  }
 ],
 "metadata": {
  "kernelspec": {
   "display_name": "Python 3 (ipykernel)",
   "language": "python",
   "name": "python3"
  },
  "language_info": {
   "codemirror_mode": {
    "name": "ipython",
    "version": 3
   },
   "file_extension": ".py",
   "mimetype": "text/x-python",
   "name": "python",
   "nbconvert_exporter": "python",
   "pygments_lexer": "ipython3",
   "version": "3.9.9"
  }
 },
 "nbformat": 4,
 "nbformat_minor": 5
}
